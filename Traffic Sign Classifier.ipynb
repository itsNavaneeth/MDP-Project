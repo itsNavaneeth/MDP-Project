{
 "cells": [
  {
   "cell_type": "code",
   "execution_count": null,
   "id": "8a41b4db",
   "metadata": {
    "collapsed": true
   },
   "outputs": [],
   "source": []
  },
  {
   "cell_type": "code",
   "execution_count": 2,
   "id": "6ed59441",
   "metadata": {},
   "outputs": [],
   "source": [
    "import numpy as np \n",
    "import pandas as pd \n",
    "import matplotlib.pyplot as plt\n",
    "import cv2\n",
    "import tensorflow as tf\n",
    "from PIL import Image\n",
    "# Python Image Library (PIL)"
   ]
  },
  {
   "cell_type": "code",
   "execution_count": 3,
   "id": "458e7182",
   "metadata": {},
   "outputs": [],
   "source": [
    "import os\n",
    "from sklearn.model_selection import train_test_split\n",
    "from keras.utils import to_categorical\n",
    "from keras.models import Sequential, load_model\n",
    "from keras.layers import Conv2D, MaxPool2D, Dense, Flatten, Dropout"
   ]
  },
  {
   "cell_type": "code",
   "execution_count": 4,
   "id": "b8912004",
   "metadata": {},
   "outputs": [],
   "source": [
    "# store every image with its corresponding labels into lists\n",
    "data = []\n",
    "labels = []\n",
    "classes = 43\n",
    "cur_path = os.getcwd()\n",
    "\n",
    "# Retrieving the images and their labels \n",
    "for i in range(classes):\n",
    "    path = os.path.join(cur_path,'train',str(i))\n",
    "    images = os.listdir(path)\n",
    "\n",
    "    for a in images:\n",
    "        image = Image.open(path + '\\\\'+ a)\n",
    "        image = image.resize((30,30))\n",
    "        image = np.array(image)\n",
    "        #sim = Image.fromarray(image)\n",
    "        data.append(image)\n",
    "        labels.append(i)"
   ]
  },
  {
   "cell_type": "code",
   "execution_count": null,
   "id": "e6075c7c",
   "metadata": {
    "collapsed": true
   },
   "outputs": [],
   "source": [
    "# Converting lists into numpy arrays\n",
    "data = np.array(data)\n",
    "labels = np.array(labels)\n",
    "\n",
    "print(data.shape, labels.shape)"
   ]
  },
  {
   "cell_type": "code",
   "execution_count": null,
   "id": "85e989fb",
   "metadata": {
    "collapsed": true
   },
   "outputs": [],
   "source": [
    "# Splitting training and testing dataset\n",
    "X_train, X_test, y_train, y_test = train_test_split(data, labels, test_size=0.2, random_state=42)\n",
    "\n",
    "print(X_train.shape, X_test.shape, y_train.shape, y_test.shape)"
   ]
  },
  {
   "cell_type": "code",
   "execution_count": null,
   "id": "cf471637",
   "metadata": {
    "collapsed": true
   },
   "outputs": [],
   "source": [
    "#Converting the labels into one hot encoding\n",
    "y_train = to_categorical(y_train, 43)\n",
    "y_test = to_categorical(y_test, 43)"
   ]
  },
  {
   "cell_type": "code",
   "execution_count": null,
   "id": "79b52283",
   "metadata": {
    "collapsed": true
   },
   "outputs": [],
   "source": [
    "#Building the model\n",
    "model = Sequential()\n",
    "\n",
    "model.add(Conv2D(filters=32, kernel_size=(5,5), activation='relu', input_shape=X_train.shape[1:]))\n",
    "model.add(Conv2D(filters=32, kernel_size=(5,5), activation='relu'))\n",
    "model.add(MaxPool2D(pool_size=(2, 2)))\n",
    "model.add(Dropout(rate=0.25))\n",
    "\n",
    "model.add(Conv2D(filters=64, kernel_size=(3, 3), activation='relu'))\n",
    "model.add(Conv2D(filters=64, kernel_size=(3, 3), activation='relu'))\n",
    "model.add(MaxPool2D(pool_size=(2, 2)))\n",
    "model.add(Dropout(rate=0.25))\n",
    "\n",
    "model.add(Flatten())\n",
    "\n",
    "model.add(Dense(256, activation='relu'))\n",
    "model.add(Dropout(rate=0.5))\n",
    "model.add(Dense(43, activation='softmax'))"
   ]
  },
  {
   "cell_type": "code",
   "execution_count": 43,
   "id": "02716a01",
   "metadata": {},
   "outputs": [
    {
     "name": "stdout",
     "output_type": "stream",
     "text": [
      "Epoch 1/15\n",
      "981/981 [==============================] - 71s 70ms/step - loss: 0.3395 - accuracy: 0.9003 - val_loss: 0.1572 - val_accuracy: 0.9481\n",
      "Epoch 2/15\n",
      "981/981 [==============================] - 74s 75ms/step - loss: 0.3149 - accuracy: 0.9067 - val_loss: 0.1081 - val_accuracy: 0.9671\n",
      "Epoch 3/15\n",
      "981/981 [==============================] - 75s 77ms/step - loss: 0.3070 - accuracy: 0.9093 - val_loss: 0.1200 - val_accuracy: 0.9621\n",
      "Epoch 4/15\n",
      "981/981 [==============================] - 70s 72ms/step - loss: 0.3372 - accuracy: 0.9022 - val_loss: 0.0904 - val_accuracy: 0.9717\n",
      "Epoch 5/15\n",
      "981/981 [==============================] - 70s 71ms/step - loss: 0.2841 - accuracy: 0.9155 - val_loss: 0.0800 - val_accuracy: 0.9749\n",
      "Epoch 6/15\n",
      "981/981 [==============================] - 66s 68ms/step - loss: 0.2725 - accuracy: 0.9197 - val_loss: 0.1181 - val_accuracy: 0.9656\n",
      "Epoch 7/15\n",
      "981/981 [==============================] - 69s 70ms/step - loss: 0.2695 - accuracy: 0.9204 - val_loss: 0.0791 - val_accuracy: 0.9744\n",
      "Epoch 8/15\n",
      "981/981 [==============================] - 67s 68ms/step - loss: 0.2628 - accuracy: 0.9229 - val_loss: 0.0784 - val_accuracy: 0.9758\n",
      "Epoch 9/15\n",
      "981/981 [==============================] - 67s 68ms/step - loss: 0.2427 - accuracy: 0.9290 - val_loss: 0.1188 - val_accuracy: 0.9652\n",
      "Epoch 10/15\n",
      "981/981 [==============================] - 71s 72ms/step - loss: 0.2778 - accuracy: 0.9204 - val_loss: 0.0930 - val_accuracy: 0.9702\n",
      "Epoch 11/15\n",
      "981/981 [==============================] - 71s 73ms/step - loss: 0.2392 - accuracy: 0.9316 - val_loss: 0.0665 - val_accuracy: 0.9815\n",
      "Epoch 12/15\n",
      "981/981 [==============================] - 70s 72ms/step - loss: 0.2404 - accuracy: 0.9300 - val_loss: 0.0628 - val_accuracy: 0.9821\n",
      "Epoch 13/15\n",
      "981/981 [==============================] - 73s 75ms/step - loss: 0.2320 - accuracy: 0.9340 - val_loss: 0.0626 - val_accuracy: 0.9819\n",
      "Epoch 14/15\n",
      "981/981 [==============================] - 76s 77ms/step - loss: 0.2246 - accuracy: 0.9353 - val_loss: 0.0730 - val_accuracy: 0.9782\n",
      "Epoch 15/15\n",
      "981/981 [==============================] - 69s 70ms/step - loss: 0.2344 - accuracy: 0.9324 - val_loss: 0.0653 - val_accuracy: 0.9821\n"
     ]
    }
   ],
   "source": [
    "#Compilation of the model\n",
    "model.compile(loss='categorical_crossentropy', optimizer='adam', metrics=['accuracy'])\n",
    "\n",
    "callback = tf.keras.callbacks.EarlyStopping(\n",
    "    monitor = \"val_loss\",\n",
    "    min_delta = 0.0001,\n",
    "    patience = 5,\n",
    "    verbose = 1,\n",
    "    mode = \"auto\",\n",
    "    baseline = None,\n",
    "    restore_best_weights = True\n",
    ")\n",
    "\n",
    "eps = 15\n",
    "history = model.fit(X_train, y_train, batch_size=32, epochs=eps, validation_data=(X_test, y_test), callbacks = callback)\n",
    "# model.save(\"my_model.h5\")"
   ]
  },
  {
   "cell_type": "code",
   "execution_count": 45,
   "id": "94b5382c",
   "metadata": {},
   "outputs": [],
   "source": [
    "model.save(\"my_model.h5\")"
   ]
  },
  {
   "cell_type": "code",
   "execution_count": 34,
   "id": "b6eeed8c",
   "metadata": {},
   "outputs": [
    {
     "name": "stdout",
     "output_type": "stream",
     "text": [
      "Model: \"sequential\"\n",
      "_________________________________________________________________\n",
      " Layer (type)                Output Shape              Param #   \n",
      "=================================================================\n",
      " conv2d (Conv2D)             (None, 26, 26, 32)        2432      \n",
      "                                                                 \n",
      " conv2d_1 (Conv2D)           (None, 22, 22, 32)        25632     \n",
      "                                                                 \n",
      " max_pooling2d (MaxPooling2D  (None, 11, 11, 32)       0         \n",
      " )                                                               \n",
      "                                                                 \n",
      " dropout (Dropout)           (None, 11, 11, 32)        0         \n",
      "                                                                 \n",
      " conv2d_2 (Conv2D)           (None, 9, 9, 64)          18496     \n",
      "                                                                 \n",
      " conv2d_3 (Conv2D)           (None, 7, 7, 64)          36928     \n",
      "                                                                 \n",
      " max_pooling2d_1 (MaxPooling  (None, 3, 3, 64)         0         \n",
      " 2D)                                                             \n",
      "                                                                 \n",
      " dropout_1 (Dropout)         (None, 3, 3, 64)          0         \n",
      "                                                                 \n",
      " flatten (Flatten)           (None, 576)               0         \n",
      "                                                                 \n",
      " dense (Dense)               (None, 256)               147712    \n",
      "                                                                 \n",
      " dropout_2 (Dropout)         (None, 256)               0         \n",
      "                                                                 \n",
      " dense_1 (Dense)             (None, 43)                11051     \n",
      "                                                                 \n",
      "=================================================================\n",
      "Total params: 242,251\n",
      "Trainable params: 242,251\n",
      "Non-trainable params: 0\n",
      "_________________________________________________________________\n",
      "None\n"
     ]
    }
   ],
   "source": [
    "print(model.summary())"
   ]
  },
  {
   "cell_type": "code",
   "execution_count": null,
   "id": "bb1ceaaa",
   "metadata": {
    "collapsed": true
   },
   "outputs": [],
   "source": []
  },
  {
   "cell_type": "code",
   "execution_count": null,
   "id": "5d28a56d",
   "metadata": {
    "collapsed": true
   },
   "outputs": [],
   "source": [
    "#plotting graphs for accuracy \n",
    "plt.figure(0)\n",
    "plt.plot(history.history['accuracy'], label='training accuracy')\n",
    "plt.plot(history.history['val_accuracy'], label='val accuracy')\n",
    "plt.title('Accuracy')\n",
    "plt.xlabel('epochs')\n",
    "plt.ylabel('accuracy')\n",
    "plt.legend()\n",
    "plt.show()"
   ]
  },
  {
   "cell_type": "code",
   "execution_count": null,
   "id": "62eb7404",
   "metadata": {
    "collapsed": true
   },
   "outputs": [],
   "source": [
    "plt.figure(1)\n",
    "plt.plot(history.history['loss'], label='training loss')\n",
    "plt.plot(history.history['val_loss'], label='val loss')\n",
    "plt.title('Loss')\n",
    "plt.xlabel('epochs')\n",
    "plt.ylabel('loss')\n",
    "plt.legend()\n",
    "plt.show()"
   ]
  },
  {
   "cell_type": "code",
   "execution_count": null,
   "id": "eeed2cbf",
   "metadata": {
    "collapsed": true
   },
   "outputs": [],
   "source": [
    "#testing accuracy on test dataset\n",
    "from sklearn.metrics import accuracy_score\n",
    "\n",
    "y_test = pd.read_csv('Test.csv')\n",
    "\n",
    "labels = y_test[\"ClassId\"].values\n",
    "imgs = y_test[\"Path\"].values\n",
    "\n",
    "data=[]\n",
    "\n",
    "for img in imgs:\n",
    "    image = Image.open(img)\n",
    "    image = image.resize((30,30))\n",
    "    data.append(np.array(image))\n",
    "\n",
    "X_test=np.array(data)\n",
    "\n",
    "# pred = model.predict_classes(X_test)\n",
    "predict_x = model.predict(X_test)\n",
    "classes_x = np.argmax(predict_x,axis=1)"
   ]
  },
  {
   "cell_type": "code",
   "execution_count": null,
   "id": "d0557db7",
   "metadata": {
    "collapsed": true
   },
   "outputs": [],
   "source": [
    "#Accuracy with the test data\n",
    "from sklearn.metrics import accuracy_score\n",
    "print(accuracy_score(labels, classes_x))"
   ]
  },
  {
   "cell_type": "code",
   "execution_count": null,
   "id": "f1c5b892",
   "metadata": {
    "collapsed": true
   },
   "outputs": [],
   "source": []
  }
 ],
 "metadata": {
  "kernelspec": {
   "display_name": "Python 3 (ipykernel)",
   "language": "python",
   "name": "python3"
  },
  "language_info": {
   "codemirror_mode": {
    "name": "ipython",
    "version": 3
   },
   "file_extension": ".py",
   "mimetype": "text/x-python",
   "name": "python",
   "nbconvert_exporter": "python",
   "pygments_lexer": "ipython3",
   "version": "3.9.12"
  }
 },
 "nbformat": 4,
 "nbformat_minor": 5
}
